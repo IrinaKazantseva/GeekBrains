{
  "nbformat": 4,
  "nbformat_minor": 0,
  "metadata": {
    "colab": {
      "provenance": [],
      "authorship_tag": "ABX9TyOdXW5CDd99EbskwxLmA5+C",
      "include_colab_link": true
    },
    "kernelspec": {
      "name": "python3",
      "display_name": "Python 3"
    },
    "language_info": {
      "name": "python"
    }
  },
  "cells": [
    {
      "cell_type": "markdown",
      "metadata": {
        "id": "view-in-github",
        "colab_type": "text"
      },
      "source": [
        "<a href=\"https://colab.research.google.com/github/IrinaKazantseva/Python/blob/main/Seminar1-04.03.2023.ipynb\" target=\"_parent\"><img src=\"https://colab.research.google.com/assets/colab-badge.svg\" alt=\"Open In Colab\"/></a>"
      ]
    },
    {
      "cell_type": "markdown",
      "source": [
        "## Задание 0 - Оформление ноутбука\n",
        "\n",
        "Весь ноутбук оформляется с заголовками и текстами\n",
        "\n",
        "## Номер задачи - заголовок 2\n",
        "### Номер подзадачи - заголовок 3\n",
        "- 1 пункт списка\n",
        "- 2 пункт списка\n",
        "- 3 пункт списка\n",
        "\n",
        "```random.randint(0,5)``` - вставка кода в текст (для оформления предоставленных наборов данных)"
      ],
      "metadata": {
        "id": "dzugsQmhQSQx"
      }
    },
    {
      "cell_type": "markdown",
      "source": [
        "## Задание 1"
      ],
      "metadata": {
        "id": "9zIpewg3QMo1"
      }
    },
    {
      "cell_type": "markdown",
      "source": [
        "### 1.1 Соедините два словаря в один\n",
        "\n",
        "```dict1 = {'One': 1, 'Two': 2, 'Three': 3}```\n",
        "\n",
        "```dict2 = {'Four': 4, 'Five': 5, 'Six': 6}```\n"
      ],
      "metadata": {
        "id": "PUPOjulvSj5V"
      }
    },
    {
      "cell_type": "code",
      "source": [
        "dict1 = {'One': 1, 'Two': 2, 'Three': 3}\n",
        "dict2 = {'Four': 4, 'Five': 5, 'Six': 6}\n",
        "dict1.update(dict2)\n",
        "dict1"
      ],
      "metadata": {
        "colab": {
          "base_uri": "https://localhost:8080/"
        },
        "id": "ZKtHSCgLUAIK",
        "outputId": "8d0a3339-0d59-49a2-a7f9-d3cc4b5c80e1"
      },
      "execution_count": null,
      "outputs": [
        {
          "output_type": "execute_result",
          "data": {
            "text/plain": [
              "{'One': 1, 'Two': 2, 'Three': 3, 'Four': 4, 'Five': 5, 'Six': 6}"
            ]
          },
          "metadata": {},
          "execution_count": 8
        }
      ]
    },
    {
      "cell_type": "markdown",
      "source": [
        "### 1.2 Напишите функцию, которая на вход принимает два словаря и возвращает один объединенный словарь\n",
        "\n",
        "Используйте аннотирование типов"
      ],
      "metadata": {
        "id": "1WLU9gPkUiot"
      }
    },
    {
      "cell_type": "code",
      "source": [
        "def dictboth(dict1,dict2):\n",
        "  dict1.update(dict2)\n",
        "  return dict1\n",
        "\n",
        "dict1 = {'One': 1, 'Two': 2, 'Three': 3}\n",
        "dict2 = {'Four': 4, 'Five': 5, 'Six': 6}\n",
        "dictboth(dict1,dict2)"
      ],
      "metadata": {
        "colab": {
          "base_uri": "https://localhost:8080/"
        },
        "id": "YRFds6DcUwiL",
        "outputId": "f256ddb3-1769-4cc8-c4a0-379505df377d"
      },
      "execution_count": null,
      "outputs": [
        {
          "output_type": "execute_result",
          "data": {
            "text/plain": [
              "{'One': 1, 'Two': 2, 'Three': 3, 'Four': 4, 'Five': 5, 'Six': 6}"
            ]
          },
          "metadata": {},
          "execution_count": 13
        }
      ]
    },
    {
      "cell_type": "markdown",
      "source": [
        "## Задание 2"
      ],
      "metadata": {
        "id": "VHzXMunxV6Sq"
      }
    },
    {
      "cell_type": "markdown",
      "source": [
        "Напишите функцию, которая из двух списков делает один словарь, где элементы из первого списка - ключи, а элементы из второго списка - значения\n",
        "\n",
        "```keys = ['One', 'Two', 'Three']```\n",
        "\n",
        "```values = [1, 2, 3]```\n",
        "\n",
        "Используйте аннотирование типов"
      ],
      "metadata": {
        "id": "35PeRIcnWDEl"
      }
    },
    {
      "cell_type": "markdown",
      "source": [
        "### 2.1 Используя цикл for"
      ],
      "metadata": {
        "id": "9eR-10_oWZCR"
      }
    },
    {
      "cell_type": "code",
      "source": [
        "def dict2lists(keys: list, values: list) -> dict:   \n",
        " new_dict = {}\n",
        " for i in range(len(keys)):\n",
        "  new_dict.update({keys[i]: values[i]})\n",
        " return new_dict\n",
        "  \n",
        "keys = ['One', 'Two', 'Three']\n",
        "values = [1, 2, 3]\n",
        "dict2lists(keys, values)"
      ],
      "metadata": {
        "colab": {
          "base_uri": "https://localhost:8080/"
        },
        "id": "OdlwCu17WdXB",
        "outputId": "7c642620-8024-4d5a-aa70-4d4aef9c5ed8"
      },
      "execution_count": null,
      "outputs": [
        {
          "output_type": "execute_result",
          "data": {
            "text/plain": [
              "{'One': 1, 'Two': 2, 'Three': 3}"
            ]
          },
          "metadata": {},
          "execution_count": 12
        }
      ]
    },
    {
      "cell_type": "markdown",
      "source": [
        "### 2.2 Используя dict comprehensions"
      ],
      "metadata": {
        "id": "FPFOZwKUWdtc"
      }
    },
    {
      "cell_type": "code",
      "source": [
        "def dict2lists2(keys: list, values: list) -> dict:\n",
        "  return {keys[i]: values[i]  for i in range(len(keys))}\n",
        "\n",
        "keys = ['One', 'Two', 'Three']\n",
        "values = [1, 2, 3]\n",
        "dict2lists2(keys, values)"
      ],
      "metadata": {
        "colab": {
          "base_uri": "https://localhost:8080/"
        },
        "id": "lJeKbF23Wg1I",
        "outputId": "867fe3f2-05f7-45a6-fb8d-834b22ad3df1"
      },
      "execution_count": null,
      "outputs": [
        {
          "output_type": "execute_result",
          "data": {
            "text/plain": [
              "{'One': 1, 'Two': 2, 'Three': 3}"
            ]
          },
          "metadata": {},
          "execution_count": 11
        }
      ]
    },
    {
      "cell_type": "markdown",
      "source": [
        "## Задание 3"
      ],
      "metadata": {
        "id": "qLohNPuAZ0FE"
      }
    },
    {
      "cell_type": "markdown",
      "source": [
        "Извлеките только два ключа name и age из представленного словаря:\n",
        "\n",
        "```client_dict = {\"name\":\"John\",\"age\":\"25\",\"salary\":\"5000\",    \"city\":\"Moscow\"}```"
      ],
      "metadata": {
        "id": "WWzWvweUZ4F-"
      }
    },
    {
      "cell_type": "markdown",
      "source": [
        "### 3.1 Напишите функцию с циклом for\n",
        "\n",
        "Функция на вход принимает:\n",
        "- исходный словарь\n",
        "- ключи, которые нужно извлечь (аргумент по умолчанию)\n",
        "\n",
        "На выходе словарь с нужными ключами.\n",
        "\n",
        "Используйте аннотирование типов\n"
      ],
      "metadata": {
        "id": "kIQEDf5tbPSU"
      }
    },
    {
      "cell_type": "code",
      "source": [
        "client_dict = {\n",
        "\"name\": \"John\",\n",
        "\"age\": 25,\n",
        "\"salary\": 5000,\n",
        "\"city\": \"Moscow\"\n",
        "}\n",
        "keys = ['name', 'age']\n",
        "\n",
        "def selectedkeysdict(client_dict, keys):\n",
        "  selected_dict = {}\n",
        "  for i in keys:\n",
        "    selected_dict.update({i: client_dict[i]})\n",
        "  return selected_dict\n",
        "\n",
        "selectedkeysdict(client_dict, keys)"
      ],
      "metadata": {
        "colab": {
          "base_uri": "https://localhost:8080/"
        },
        "id": "R8a60U5PbqyX",
        "outputId": "765c6d2b-75c4-48b1-e5ba-6c440edb5b8b"
      },
      "execution_count": null,
      "outputs": [
        {
          "output_type": "execute_result",
          "data": {
            "text/plain": [
              "{'name': 'John', 'age': 25}"
            ]
          },
          "metadata": {},
          "execution_count": 15
        }
      ]
    },
    {
      "cell_type": "markdown",
      "source": [
        "### 3.2 Используя dict comprehensions"
      ],
      "metadata": {
        "id": "2Ak7dcNGbrIy"
      }
    },
    {
      "cell_type": "code",
      "source": [
        "def selectedkeysdict2(client_dict, keys):\n",
        "  return {i: client_dict[i]  for i in keys}\n",
        "\n",
        "selectedkeysdict2(client_dict, keys)"
      ],
      "metadata": {
        "colab": {
          "base_uri": "https://localhost:8080/"
        },
        "id": "FjfXu38obulS",
        "outputId": "6d97c4f6-aabe-4e7e-bc5f-fcb7ae028f62"
      },
      "execution_count": null,
      "outputs": [
        {
          "output_type": "execute_result",
          "data": {
            "text/plain": [
              "{'name': 'John', 'age': 25}"
            ]
          },
          "metadata": {},
          "execution_count": 16
        }
      ]
    },
    {
      "cell_type": "markdown",
      "source": [
        "## Задание 4"
      ],
      "metadata": {
        "id": "D41CuBKefZXE"
      }
    },
    {
      "cell_type": "markdown",
      "source": [
        "### 4.1 Сгенерируйте случайные целые числа от 0 до 100 в количестве 5 штук с помощью модуля random\n",
        "\n",
        "- Зафиксируйте псевдогенерацию, чтобы сгенерированные значения всегда были одинаковые\n",
        "\n",
        "- Используйте list comprehensions\n"
      ],
      "metadata": {
        "id": "kpD3XUcYfjIx"
      }
    },
    {
      "cell_type": "code",
      "source": [
        "import random"
      ],
      "metadata": {
        "id": "aHuBY9iHgH9X"
      },
      "execution_count": null,
      "outputs": []
    },
    {
      "cell_type": "code",
      "source": [
        "random.seed(4)\n",
        "randlist = [random.randint(0, 100) for i in range(5)]\n",
        "randlist"
      ],
      "metadata": {
        "colab": {
          "base_uri": "https://localhost:8080/"
        },
        "id": "YQ_70i9Mi1ST",
        "outputId": "b8649494-5396-484e-829f-6e27eb0f7c1d"
      },
      "execution_count": 42,
      "outputs": [
        {
          "output_type": "execute_result",
          "data": {
            "text/plain": [
              "[30, 38, 13, 92, 50]"
            ]
          },
          "metadata": {},
          "execution_count": 42
        }
      ]
    },
    {
      "cell_type": "markdown",
      "source": [
        "### 4.2 Напишите генератор\n",
        "\n",
        "- Генератор на вход принимает список с данными о клиенте (данные из пункта 4.1)\n",
        "- Внутри генератора реализуйте обход по списку с данными\n",
        "\n",
        "На каждой итерации генератор будет возвращать кортеж из двух элементов:\n",
        "\n",
        "1. Данные по клиенту (в зависимости от итерации, на 0 итерации вернется 0 элемент, на 1 итерации вернется 1 элемент и тд)\n",
        "2. Целочисленное значение, которое показывает, сколько секунд прошло с предыдущей итерации\n",
        "\n",
        "**Примечание**: секунды, которые возвращаются должны показывать время не с начала запуска генератора, а именно то время, которое прошло с предыдущей итерации. А значит время на первой итерации должно равняться 0.\n",
        "\n",
        "- *Используйте функцию time из модуля time для подсчета времени.*\n",
        "\n",
        "- *Чтобы проверить работу таймера, запустите проход по генератору в цикле с time.sleep(2)*\n",
        "\n",
        "\n"
      ],
      "metadata": {
        "id": "sTzAZnYsgIwo"
      }
    },
    {
      "cell_type": "code",
      "source": [
        "import time"
      ],
      "metadata": {
        "id": "r_bbTrUvhF_n"
      },
      "execution_count": null,
      "outputs": []
    },
    {
      "cell_type": "code",
      "source": [
        "def generator(randlist):\n",
        "  last_time = None\n",
        "  for i in randlist:\n",
        "    current_time = time.time()\n",
        "    if last_time: delta = current_time - last_time\n",
        "    else: delta = current_time - current_time\n",
        "    last_time = time.time()\n",
        "    yield (i, int(delta))\n",
        "\n",
        "for i in generator(randlist):\n",
        "  print(i)\n",
        "  time.sleep(2)"
      ],
      "metadata": {
        "id": "sS3fPKd3odOV",
        "colab": {
          "base_uri": "https://localhost:8080/"
        },
        "outputId": "7d757ec3-afda-4bff-a734-8b4af01013bf"
      },
      "execution_count": 46,
      "outputs": [
        {
          "output_type": "stream",
          "name": "stdout",
          "text": [
            "(30, 0)\n",
            "(38, 2)\n",
            "(13, 2)\n",
            "(92, 2)\n",
            "(50, 2)\n"
          ]
        }
      ]
    },
    {
      "cell_type": "markdown",
      "source": [
        "## Задание 5"
      ],
      "metadata": {
        "id": "TGtQKq-3hKvX"
      }
    },
    {
      "cell_type": "markdown",
      "source": [
        "### 5.1 Найдите картинку в интернете и прикрепите её в ячейку с текстом\n"
      ],
      "metadata": {
        "id": "kjwV59LvhM4m"
      }
    },
    {
      "cell_type": "markdown",
      "source": [
        "<img src = https://cdn.playcaliber.com/site/media/news/2021/06/01/4-%D0%A2%D0%B0%D0%B1%D0%BB%D0%B8%D1%86%D0%B0-%D0%BC%D0%B0%D0%BB%D0%B5%D0%BD%D1%8C%D0%BA%D0%B0%D1%8F-%D0%BF%D0%BE-%D1%80%D0%B5%D0%B6%D0%B8%D0%BC%D0%B0%D0%BC-1280%D1%85853.jpg>"
      ],
      "metadata": {
        "id": "BevDIbgHjhKz"
      }
    },
    {
      "cell_type": "markdown",
      "source": [
        "### 5.2 Создайте следующую таблицу в ячейке с текстом \n",
        "\n",
        "<img src='https://cdn.playcaliber.com/site/media/news/2021/06/01/4-%D0%A2%D0%B0%D0%B1%D0%BB%D0%B8%D1%86%D0%B0-%D0%BC%D0%B0%D0%BB%D0%B5%D0%BD%D1%8C%D0%BA%D0%B0%D1%8F-%D0%BF%D0%BE-%D1%80%D0%B5%D0%B6%D0%B8%D0%BC%D0%B0%D0%BC-1280%D1%85853.jpg' width=500>\n"
      ],
      "metadata": {
        "id": "L36FKAu5hQrQ"
      }
    },
    {
      "cell_type": "markdown",
      "source": [
        "<table>\n",
        "  <tr>\n",
        "    <td> </td>\n",
        "    <td>ДО СОБЫТИЯ</td>\n",
        "    <td>ВО ВРЕМЯ СОБЫТИЯ</td>\n",
        "  </tr>\n",
        "  <tr>\n",
        "    <td>1 контрольная точка</td>\n",
        "    <td>250</td>\n",
        "    <td><b>500</b></td>\n",
        "  </tr>\n",
        "  <tr>\n",
        "    <td>2 контрольная точка</td>\n",
        "    <td>350</td>\n",
        "    <td><b>700</b></td>\n",
        "  </tr>\n",
        "  <tr>\n",
        "    <td>3 контрольная точка</td>\n",
        "    <td>400</td>\n",
        "    <td><b>800</b></td>\n",
        "  </tr>\n",
        "  <tr>\n",
        "    <td>Итого за победу</td>\n",
        "    <td>1000</td>\n",
        "    <td><b>2000</b></td>\n",
        "  </tr>\n",
        "</table>"
      ],
      "metadata": {
        "id": "_u_cMLzwkEMd"
      }
    },
    {
      "cell_type": "markdown",
      "source": [
        "## Задание 6"
      ],
      "metadata": {
        "id": "lPn54GDMhix9"
      }
    },
    {
      "cell_type": "markdown",
      "source": [
        "Напишите функцию, которая может принимать любое количество трат пользователя и считать сумму и среднее.\n",
        "- На вход поступают целочисленные значения в любом количестве\n",
        "- На выходе словарь с ключами суммы трат и средней траты\n"
      ],
      "metadata": {
        "id": "VxeEx1oBhkJI"
      }
    },
    {
      "cell_type": "code",
      "source": [
        "def dict_waste(*numbers):\n",
        "  sum_waste = sum(numbers)\n",
        "  quality = len(numbers)\n",
        "  return {\"sum\":sum_waste, \"average\": sum_waste/quality}\n",
        "dict_waste(1,2,3,4,5,6,0)"
      ],
      "metadata": {
        "colab": {
          "base_uri": "https://localhost:8080/"
        },
        "id": "vHr-Kl9Ihtvp",
        "outputId": "c8f7b6eb-337f-442c-dbe6-a72db865684c"
      },
      "execution_count": null,
      "outputs": [
        {
          "output_type": "execute_result",
          "data": {
            "text/plain": [
              "{'sum': 21, 'average': 3.0}"
            ]
          },
          "metadata": {},
          "execution_count": 35
        }
      ]
    }
  ]
}