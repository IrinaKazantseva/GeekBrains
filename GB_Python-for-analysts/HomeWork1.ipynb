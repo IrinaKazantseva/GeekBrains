{
  "nbformat": 4,
  "nbformat_minor": 0,
  "metadata": {
    "colab": {
      "provenance": [],
      "authorship_tag": "ABX9TyNSQSvCnrDhvZuQPmV/heHZ",
      "include_colab_link": true
    },
    "kernelspec": {
      "name": "python3",
      "display_name": "Python 3"
    },
    "language_info": {
      "name": "python"
    }
  },
  "cells": [
    {
      "cell_type": "markdown",
      "metadata": {
        "id": "view-in-github",
        "colab_type": "text"
      },
      "source": [
        "<a href=\"https://colab.research.google.com/github/IrinaKazantseva/Python/blob/main/HomeWork1-04.03.2023.ipynb\" target=\"_parent\"><img src=\"https://colab.research.google.com/assets/colab-badge.svg\" alt=\"Open In Colab\"/></a>"
      ]
    },
    {
      "cell_type": "markdown",
      "source": [
        "## Домашнее задание 1\n",
        "\n",
        "Оформляйте ноутбук, используя эти советы:\n",
        "\n",
        "- Номер задачи - заголовок 2\n",
        "- Номер подзадачи - заголовок 3\n",
        "- Предоставленные наборы данных оформляйте, как ```код```\n"
      ],
      "metadata": {
        "id": "93Io7uAWuidL"
      }
    },
    {
      "cell_type": "markdown",
      "source": [
        "## Домашнее задание 2"
      ],
      "metadata": {
        "id": "fWpRu9HfvJMr"
      }
    },
    {
      "cell_type": "markdown",
      "source": [
        "На складе лежат разные фрукты в разном количестве.\n",
        "\n",
        "Нужно написать функцию, которая на вход принимает любое количество названий фруктов и их количество, а возвращает общее количество фруктов на складе\n"
      ],
      "metadata": {
        "id": "bU4AYtP1vPGA"
      }
    },
    {
      "cell_type": "code",
      "source": [
        "def sum_fruits(**kwargs):\n",
        "  sum = 0\n",
        "  for number in kwargs.values():\n",
        "    sum += number\n",
        "  return sum\n",
        "\n",
        "sum_fruits(pear=3, grape=8, ananas = 6, mango = 14)"
      ],
      "metadata": {
        "colab": {
          "base_uri": "https://localhost:8080/"
        },
        "id": "3N9lEP_WvXnD",
        "outputId": "18f2b4e3-0137-4e82-dde3-1cd464bcf446"
      },
      "execution_count": null,
      "outputs": [
        {
          "output_type": "execute_result",
          "data": {
            "text/plain": [
              "31"
            ]
          },
          "metadata": {},
          "execution_count": 3
        }
      ]
    },
    {
      "cell_type": "markdown",
      "source": [
        "## Домашнее задание 3"
      ],
      "metadata": {
        "id": "0d6p2jyywZOD"
      }
    },
    {
      "cell_type": "markdown",
      "source": [
        "Дан список с затратами на рекламу. Но в данных есть ошибки, некоторые затраты имеют отрицательную величину. Удалите такие значения из списка и посчитайте суммарные затраты\n",
        "\n",
        "```[100, 125, -90, 345, 655, -1, 0, 200]```\n",
        "\n",
        "Используйте list comprehensions\n",
        "\n"
      ],
      "metadata": {
        "id": "qs00FBc5xBPW"
      }
    },
    {
      "cell_type": "code",
      "source": [
        "cost = [100, 125, -90, 345, 655, -1, 0, 200]\n",
        "\n",
        "sum([i for i in cost if i>0])\n"
      ],
      "metadata": {
        "colab": {
          "base_uri": "https://localhost:8080/"
        },
        "id": "2h84FFZfxQVf",
        "outputId": "d56d61bd-c853-46a8-c8e6-fef7eba38341"
      },
      "execution_count": null,
      "outputs": [
        {
          "output_type": "execute_result",
          "data": {
            "text/plain": [
              "1425"
            ]
          },
          "metadata": {},
          "execution_count": 5
        }
      ]
    },
    {
      "cell_type": "markdown",
      "source": [
        "## Домашнее задание 4"
      ],
      "metadata": {
        "id": "mnPvOb_kxyhf"
      }
    },
    {
      "cell_type": "markdown",
      "source": [
        "Даны два списка:\n",
        "\n",
        "- Дата покупки\n",
        "\n",
        "```['2021-09-14', '2021-12-15', '2021-09-08', '2021-12-05', '2021-10-09', '2021-09-30', '2021-12-22', '2021-11-29', '2021-12-24', '2021-11-26', '2021-10-27', '2021-12-18', '2021-11-09', '2021-11-23', '2021-09-27', '2021-10-02', '2021-12-27', '2021-09-20', '2021-12-13', '2021-11-01', '2021-11-09', '2021-12-06', '2021-12-08', '2021-10-09', '2021-10-31', '2021-09-30', '2021-11-09', '2021-12-13', '2021-10-26', '2021-12-09']```\n",
        "- Суммы покупок по датам\n",
        "\n",
        "```[1270, 8413, 9028, 3703, 5739, 4095, 295, 4944, 5723, 3701, 4471, 651, 7037, 4274, 6275, 4988, 6930, 2971, 6592, 2004, 2822, 519, 3406, 2732, 5015, 2008, 316, 6333, 5700, 2887]```\n"
      ],
      "metadata": {
        "id": "AbodE4l2x3oe"
      }
    },
    {
      "cell_type": "markdown",
      "source": [
        "### 4.1 Найдите, какая выручка у компании в ноябре\n",
        "\n",
        "Используйте list comprehensions"
      ],
      "metadata": {
        "id": "MVdMGTrRyHnw"
      }
    },
    {
      "cell_type": "code",
      "source": [
        "days = ['2021-09-14', '2021-12-15', '2021-09-08', '2021-12-05', '2021-10-09',\n",
        "        '2021-09-30', '2021-12-22', '2021-11-29', '2021-12-24', '2021-11-26',\n",
        "        '2021-10-27', '2021-12-18', '2021-11-09', '2021-11-23', '2021-09-27',\n",
        "        '2021-10-02', '2021-12-27', '2021-09-20', '2021-12-13', '2021-11-01',\n",
        "        '2021-11-09', '2021-12-06', '2021-12-08', '2021-10-09', '2021-10-31',\n",
        "        '2021-09-30', '2021-11-09', '2021-12-13', '2021-10-26', '2021-12-09']\n",
        "\n",
        "purchase = [1270, 8413, 9028, 3703, 5739, 4095, 295, 4944, 5723, 3701, 4471,\n",
        "            651, 7037, 4274, 6275, 4988, 6930, 2971, 6592, 2004, 2822, 519,\n",
        "            3406, 2732, 5015, 2008, 316, 6333, 5700, 2887]\n",
        "\n",
        "sum([purchase[i] for i in range(len(days)) if days[i].split('-')[1] == '11'])\n",
        "\n"
      ],
      "metadata": {
        "colab": {
          "base_uri": "https://localhost:8080/"
        },
        "id": "jUvB8nOhyOJ3",
        "outputId": "6453b621-a4ee-408d-a848-ff75a2aca705"
      },
      "execution_count": null,
      "outputs": [
        {
          "output_type": "execute_result",
          "data": {
            "text/plain": [
              "25098"
            ]
          },
          "metadata": {},
          "execution_count": 6
        }
      ]
    },
    {
      "cell_type": "markdown",
      "source": [
        "### 4.2 Найдите выручку компании в зависимости от месяца\n",
        "\n",
        "Для этого напишите функцию, которая на вход принимает список с датами и список с выручкой, а на выходе словарь, где ключи - это месяцы, а значения - это выручка.\n",
        "\n",
        "Используйте аннотирование типов."
      ],
      "metadata": {
        "id": "Db5-oTovyOXB"
      }
    },
    {
      "cell_type": "code",
      "source": [
        "def monthly_revenue(days: list, purchase: list) -> dict:\n",
        "  month_rev = {}\n",
        "  for i in range(len(days)):\n",
        "    month = days[i].split('-')[1]\n",
        "    if month in month_rev.keys():\n",
        "     month_rev[month] += purchase[i]\n",
        "    else:\n",
        "     month_rev[month] = purchase[i] \n",
        "  return month_rev\n",
        "\n",
        "monthly_revenue(days, purchase)"
      ],
      "metadata": {
        "colab": {
          "base_uri": "https://localhost:8080/"
        },
        "id": "tZ_M3eSmyczQ",
        "outputId": "9abf346f-597d-47cc-e644-d5840c305793"
      },
      "execution_count": null,
      "outputs": [
        {
          "output_type": "execute_result",
          "data": {
            "text/plain": [
              "{'09': 25647, '12': 45452, '10': 28645, '11': 25098}"
            ]
          },
          "metadata": {},
          "execution_count": 7
        }
      ]
    }
  ]
}
